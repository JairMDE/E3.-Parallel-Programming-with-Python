{
  "nbformat": 4,
  "nbformat_minor": 0,
  "metadata": {
    "colab": {
      "provenance": []
    },
    "kernelspec": {
      "name": "python3",
      "display_name": "Python 3"
    },
    "language_info": {
      "name": "python"
    }
  },
  "cells": [
    {
      "cell_type": "code",
      "execution_count": 1,
      "metadata": {
        "colab": {
          "base_uri": "https://localhost:8080/"
        },
        "id": "hPKPfDdc-0as",
        "outputId": "a7da2321-babb-4f35-b2c9-e07cbe234500"
      },
      "outputs": [
        {
          "output_type": "stream",
          "name": "stdout",
          "text": [
            "Reading package lists... Done\n",
            "Building dependency tree... Done\n",
            "Reading state information... Done\n",
            "Suggested packages:\n",
            "  python3-numpy\n",
            "The following NEW packages will be installed:\n",
            "  python3-mpi4py\n",
            "0 upgraded, 1 newly installed, 0 to remove and 45 not upgraded.\n",
            "Need to get 465 kB of archives.\n",
            "After this operation, 1,857 kB of additional disk space will be used.\n",
            "Get:1 http://archive.ubuntu.com/ubuntu jammy/universe amd64 python3-mpi4py amd64 3.1.3-1build2 [465 kB]\n",
            "Fetched 465 kB in 1s (594 kB/s)\n",
            "debconf: unable to initialize frontend: Dialog\n",
            "debconf: (No usable dialog-like program is installed, so the dialog based frontend cannot be used. at /usr/share/perl5/Debconf/FrontEnd/Dialog.pm line 78, <> line 1.)\n",
            "debconf: falling back to frontend: Readline\n",
            "debconf: unable to initialize frontend: Readline\n",
            "debconf: (This frontend requires a controlling tty.)\n",
            "debconf: falling back to frontend: Teletype\n",
            "dpkg-preconfigure: unable to re-open stdin: \n",
            "Selecting previously unselected package python3-mpi4py.\n",
            "(Reading database ... 131015 files and directories currently installed.)\n",
            "Preparing to unpack .../python3-mpi4py_3.1.3-1build2_amd64.deb ...\n",
            "Unpacking python3-mpi4py (3.1.3-1build2) ...\n",
            "Setting up python3-mpi4py (3.1.3-1build2) ...\n"
          ]
        }
      ],
      "source": [
        "!sudo apt-get install -y python3-mpi4py"
      ]
    },
    {
      "cell_type": "code",
      "source": [
        "!apt-get install -qq mpich\n",
        "!pip install mpi4py"
      ],
      "metadata": {
        "colab": {
          "base_uri": "https://localhost:8080/"
        },
        "id": "fqOh8u87_XX8",
        "outputId": "a45a8aa9-f201-4f2c-8690-fd8235c9f149"
      },
      "execution_count": 2,
      "outputs": [
        {
          "output_type": "stream",
          "name": "stdout",
          "text": [
            "Selecting previously unselected package libslurm37.\n",
            "(Reading database ... \r(Reading database ... 5%\r(Reading database ... 10%\r(Reading database ... 15%\r(Reading database ... 20%\r(Reading database ... 25%\r(Reading database ... 30%\r(Reading database ... 35%\r(Reading database ... 40%\r(Reading database ... 45%\r(Reading database ... 50%\r(Reading database ... 55%\r(Reading database ... 60%\r(Reading database ... 65%\r(Reading database ... 70%\r(Reading database ... 75%\r(Reading database ... 80%\r(Reading database ... 85%\r(Reading database ... 90%\r(Reading database ... 95%\r(Reading database ... 100%\r(Reading database ... 131074 files and directories currently installed.)\n",
            "Preparing to unpack .../libslurm37_21.08.5-2ubuntu1_amd64.deb ...\n",
            "Unpacking libslurm37 (21.08.5-2ubuntu1) ...\n",
            "Selecting previously unselected package hwloc-nox.\n",
            "Preparing to unpack .../hwloc-nox_2.7.0-2ubuntu1_amd64.deb ...\n",
            "Unpacking hwloc-nox (2.7.0-2ubuntu1) ...\n",
            "Selecting previously unselected package libmpich12:amd64.\n",
            "Preparing to unpack .../libmpich12_4.0-3_amd64.deb ...\n",
            "Unpacking libmpich12:amd64 (4.0-3) ...\n",
            "Selecting previously unselected package mpich.\n",
            "Preparing to unpack .../archives/mpich_4.0-3_amd64.deb ...\n",
            "Unpacking mpich (4.0-3) ...\n",
            "Selecting previously unselected package libmpich-dev:amd64.\n",
            "Preparing to unpack .../libmpich-dev_4.0-3_amd64.deb ...\n",
            "Unpacking libmpich-dev:amd64 (4.0-3) ...\n",
            "Setting up libslurm37 (21.08.5-2ubuntu1) ...\n",
            "Setting up hwloc-nox (2.7.0-2ubuntu1) ...\n",
            "Setting up libmpich12:amd64 (4.0-3) ...\n",
            "Setting up mpich (4.0-3) ...\n",
            "Setting up libmpich-dev:amd64 (4.0-3) ...\n",
            "Processing triggers for man-db (2.10.2-1) ...\n",
            "Processing triggers for libc-bin (2.35-0ubuntu3.4) ...\n",
            "/sbin/ldconfig.real: /usr/local/lib/libtbb.so.12 is not a symbolic link\n",
            "\n",
            "/sbin/ldconfig.real: /usr/local/lib/libtbbmalloc_proxy.so.2 is not a symbolic link\n",
            "\n",
            "/sbin/ldconfig.real: /usr/local/lib/libtbbmalloc.so.2 is not a symbolic link\n",
            "\n",
            "/sbin/ldconfig.real: /usr/local/lib/libtbbbind_2_5.so.3 is not a symbolic link\n",
            "\n",
            "/sbin/ldconfig.real: /usr/local/lib/libtbbbind_2_0.so.3 is not a symbolic link\n",
            "\n",
            "/sbin/ldconfig.real: /usr/local/lib/libtbbbind.so.3 is not a symbolic link\n",
            "\n",
            "Requirement already satisfied: mpi4py in /usr/lib/python3/dist-packages (3.1.3)\n"
          ]
        }
      ]
    },
    {
      "cell_type": "code",
      "source": [
        "import time\n",
        "import numpy as np\n",
        "import matplotlib.pyplot as plt"
      ],
      "metadata": {
        "id": "LIfsG_LMj1FN"
      },
      "execution_count": 11,
      "outputs": []
    },
    {
      "cell_type": "markdown",
      "source": [
        "## Importing my other two .py files for the comparison"
      ],
      "metadata": {
        "id": "k_v499cxml7g"
      }
    },
    {
      "cell_type": "code",
      "source": [
        "import sys\n",
        "sys.path.append('/content/')\n",
        "\n",
        "from Multiprocess_python import compute_pi_parallel\n",
        "from Pure_python import compute_pi_sequential\n"
      ],
      "metadata": {
        "id": "uXvlcVxrjTGw"
      },
      "execution_count": 41,
      "outputs": []
    },
    {
      "cell_type": "markdown",
      "source": [
        "## Including the mpi code directly"
      ],
      "metadata": {
        "id": "BOaVXnmnmjY8"
      }
    },
    {
      "cell_type": "code",
      "source": [
        "mpi_code = \"\"\"\n",
        "from mpi4py import MPI\n",
        "import math\n",
        "import time\n",
        "\n",
        "def compute_pi_distributed(N):\n",
        "    comm = MPI.COMM_WORLD\n",
        "    size = comm.Get_size()\n",
        "    rank = comm.Get_rank()\n",
        "    delta_x = 1.0 / N\n",
        "    local_n = N // size\n",
        "    start_time = time.time() if rank == 0 else None  # Start timer on root process\n",
        "\n",
        "    local_sum = sum(math.sqrt(1 - (i * delta_x)**2) * delta_x for i in range(rank * local_n, (rank + 1) * local_n))\n",
        "    total_sum = comm.reduce(local_sum, op=MPI.SUM, root=0)\n",
        "\n",
        "    if rank == 0:\n",
        "        end_time = time.time()\n",
        "        execution_time = end_time - start_time\n",
        "        print(f\"Approximation of π: {total_sum * 4}\")\n",
        "        print(f\"Execution time: {execution_time} seconds\")\n",
        "\n",
        "if __name__ == \"__main__\":\n",
        "    N = 1000000  # Example, adjust as needed\n",
        "    compute_pi_distributed(N)\n",
        "\n",
        "\"\"\"\n",
        "\n",
        "with open(\"mpi_pi.py\", \"w\") as file:\n",
        "  file.write(mpi_code)"
      ],
      "metadata": {
        "id": "YHZ7i9hp_z4Z"
      },
      "execution_count": 33,
      "outputs": []
    },
    {
      "cell_type": "markdown",
      "source": [
        "# Using the time function already implemented in the code to check the time taken and the approximation"
      ],
      "metadata": {
        "id": "8nLWtPvat1VB"
      }
    },
    {
      "cell_type": "code",
      "source": [
        "!python Pure_python.py"
      ],
      "metadata": {
        "colab": {
          "base_uri": "https://localhost:8080/"
        },
        "id": "Ia4A9FUilNKf",
        "outputId": "9f20a93f-d2ad-42ff-a71e-457450cd77f5"
      },
      "execution_count": 42,
      "outputs": [
        {
          "output_type": "stream",
          "name": "stdout",
          "text": [
            "Approximation of π: 3.1415946524138207\n",
            "Execution time: 0.3828415870666504 seconds\n"
          ]
        }
      ]
    },
    {
      "cell_type": "code",
      "source": [
        "!python Multiprocess_python.py"
      ],
      "metadata": {
        "colab": {
          "base_uri": "https://localhost:8080/"
        },
        "id": "LtpV88YolI1g",
        "outputId": "b10ddc5b-26ed-4f9f-d396-dc841808071c"
      },
      "execution_count": 50,
      "outputs": [
        {
          "output_type": "stream",
          "name": "stdout",
          "text": [
            "Approximation of π: 3.141594652413769\n",
            "Execution time: 0.4013338088989258 seconds\n"
          ]
        }
      ]
    },
    {
      "cell_type": "code",
      "source": [
        "!mpiexec --allow-run-as-root --oversubscribe -n 4 python mpi_pi.py"
      ],
      "metadata": {
        "colab": {
          "base_uri": "https://localhost:8080/"
        },
        "id": "D72rV62ykIXZ",
        "outputId": "e51bcf6b-5690-4b1f-92d4-a3296c337ab4"
      },
      "execution_count": 44,
      "outputs": [
        {
          "output_type": "stream",
          "name": "stdout",
          "text": [
            "Approximation of π: 3.141594652413769\n",
            "Execution time: 0.3468508720397949 seconds\n"
          ]
        }
      ]
    },
    {
      "cell_type": "markdown",
      "source": [
        "## Visualizing it with the respective times taken"
      ],
      "metadata": {
        "id": "tlY-BAqFt8TM"
      }
    },
    {
      "cell_type": "code",
      "source": [
        "import matplotlib.pyplot as plt\n",
        "\n",
        "# Define the execution times for each method\n",
        "methods = ['Sequential', 'Multiprocessing', 'MPI']\n",
        "times = [0.3963477611541748, 0.4013338088989258, 0.3381772041320801]\n",
        "\n",
        "# Create a bar chart for the execution times\n",
        "plt.figure(figsize=(10, 6))\n",
        "plt.bar(methods, times, color=['blue', 'green', 'red'])\n",
        "\n",
        "# Add labels and title\n",
        "plt.ylabel('Execution Time (seconds)')\n",
        "plt.xlabel('Method')\n",
        "plt.title('Execution Time Comparison of Pi Calculation Methods')\n",
        "plt.ylim(0, max(times) * 1.1)  # Set the y-axis limit a bit higher than the max time\n",
        "\n",
        "# Annotate the bars with the exact time values\n",
        "for i, time in enumerate(times):\n",
        "    plt.text(i, time + 0.01, f'{time:.4f}', ha = 'center', color = 'black')\n",
        "\n",
        "# Display the plot\n",
        "plt.show()"
      ],
      "metadata": {
        "colab": {
          "base_uri": "https://localhost:8080/",
          "height": 564
        },
        "id": "RxRzljOXkU5N",
        "outputId": "b466f5eb-2d16-4a2f-b063-db438363e60d"
      },
      "execution_count": 53,
      "outputs": [
        {
          "output_type": "display_data",
          "data": {
            "text/plain": [
              "<Figure size 1000x600 with 1 Axes>"
            ],
            "image/png": "[encoded data removed]"
          },
          "metadata": {}
        }
      ]
    },
    {
      "cell_type": "code",
      "source": [],
      "metadata": {
        "id": "NA9RLMahm2do"
      },
      "execution_count": null,
      "outputs": []
    }
  ]
}